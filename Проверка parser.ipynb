{
 "cells": [
  {
   "cell_type": "code",
   "execution_count": 1,
   "metadata": {},
   "outputs": [],
   "source": [
    "from deductor_parser import DeductorParser"
   ]
  },
  {
   "cell_type": "code",
   "execution_count": null,
   "metadata": {},
   "outputs": [],
   "source": []
  },
  {
   "cell_type": "code",
   "execution_count": 3,
   "metadata": {},
   "outputs": [],
   "source": [
    "parser = DeductorParser('Тест.ded')"
   ]
  },
  {
   "cell_type": "code",
   "execution_count": 5,
   "metadata": {},
   "outputs": [],
   "source": [
    "parser.setdocument('Текстовый файл (C:\\\\Users\\\\Aleksandr\\\\Desktop\\\\PyOptimizer\\\\test.csv)')"
   ]
  },
  {
   "cell_type": "code",
   "execution_count": 6,
   "metadata": {},
   "outputs": [
    {
     "data": {
      "text/plain": [
       "dict_keys(['Самоорганизующаяся карта [16; 12]', 'Нейросеть [4 x 10 x 4]'])"
      ]
     },
     "execution_count": 6,
     "metadata": {},
     "output_type": "execute_result"
    }
   ],
   "source": [
    "parser.getneuronetssxml().keys()"
   ]
  },
  {
   "cell_type": "code",
   "execution_count": 7,
   "metadata": {},
   "outputs": [],
   "source": [
    "parser.setneuronet('Нейросеть [4 x 10 x 4]', parse=True)"
   ]
  },
  {
   "cell_type": "code",
   "execution_count": 8,
   "metadata": {},
   "outputs": [
    {
     "data": {
      "text/plain": [
       "{'layers': [[[11.2201012573181,\n",
       "    8.33646145934991,\n",
       "    -4.56060141252401,\n",
       "    57.7201357877406,\n",
       "    1.36754899440136],\n",
       "   [-9.03002906146306,\n",
       "    -5.37088467985929,\n",
       "    3.74900518113459,\n",
       "    -49.6690354756578,\n",
       "    -0.999125071956502],\n",
       "   [-2.32809468191359,\n",
       "    -5.87316328991453,\n",
       "    1.73377283257197,\n",
       "    1.56703942548407,\n",
       "    -0.102091237933144],\n",
       "   [4.52446855999249,\n",
       "    -5.0626548440518,\n",
       "    -0.177967961789818,\n",
       "    0.509894619938161,\n",
       "    -0.754782687771007],\n",
       "   [3.72703488884396,\n",
       "    0.341300135686728,\n",
       "    -8.38804734403045,\n",
       "    0.644419019986136,\n",
       "    -0.148584668995447],\n",
       "   [2.21240353491714,\n",
       "    0.604287399006316,\n",
       "    2.95834404161671,\n",
       "    -1.52115744126063,\n",
       "    0.104736519613024],\n",
       "   [-1.81229334995129,\n",
       "    4.30243792403869,\n",
       "    -0.0394095350996579,\n",
       "    -0.7889116341317,\n",
       "    0.0930807842438219],\n",
       "   [2.92830365926033,\n",
       "    -6.92504479907915,\n",
       "    0.990179752688948,\n",
       "    -1.20983146293274,\n",
       "    0.200660381049104],\n",
       "   [3.84395130296893,\n",
       "    -0.0589222763811708,\n",
       "    -14.636031267673,\n",
       "    0.519661978039925,\n",
       "    0.263219855367139],\n",
       "   [7.01388205466755,\n",
       "    -2.07688775943134,\n",
       "    0.14775313058646,\n",
       "    0.0160931866525626,\n",
       "    -0.992557010718078]],\n",
       "  [[0.768223178940385,\n",
       "    0.286104737549046,\n",
       "    0.429180012491426,\n",
       "    2.24260251342241,\n",
       "    0.162401919775088,\n",
       "    -1.7661173514496,\n",
       "    -3.96900898233393,\n",
       "    4.26888978481356,\n",
       "    0.286190426926559,\n",
       "    -0.598546674287795,\n",
       "    0.148953726647735],\n",
       "   [0.554611565481525,\n",
       "    -0.101145968490999,\n",
       "    0.0848882034959616,\n",
       "    0.172829539891781,\n",
       "    0.983221127492476,\n",
       "    0.0511316153934873,\n",
       "    -0.0212448904081002,\n",
       "    1.44380481669513,\n",
       "    0.83158129585934,\n",
       "    -0.0102937128565222,\n",
       "    -2.490178227042],\n",
       "   [1.1989349311809,\n",
       "    -0.840732434439007,\n",
       "    -0.85403182430366,\n",
       "    -0.0442804908493599,\n",
       "    0.121813835076344,\n",
       "    -0.0366472016268955,\n",
       "    -0.0446270854527191,\n",
       "    0.0375794844679549,\n",
       "    0.0262843895678133,\n",
       "    0.0243240732878147,\n",
       "    -0.424216503423489],\n",
       "   [-0.0501505028501102,\n",
       "    8.92476061791396,\n",
       "    -254450.999288011,\n",
       "    -10663.2148032342,\n",
       "    -197.909892460877,\n",
       "    -60.630010144928,\n",
       "    -0.63727646818325,\n",
       "    278.988290869378,\n",
       "    -184.613951408345,\n",
       "    -271.102720109316,\n",
       "    13.3512753751223]]],\n",
       " 'layers_count': 2,\n",
       " 'count_x': 4,\n",
       " 'count_y': 4,\n",
       " 'krutizna': 1.0,\n",
       " 'activate': 'afnSigmoid',\n",
       " 'inp_norm': [[-9.975258975, 9.961723322],\n",
       "  [-10.0, 10.0],\n",
       "  [-1.9981791995, 1.9991795745],\n",
       "  [-2.1980471382, 2.3989154519]],\n",
       " 'out_norm': [[-8.766684412, 118.9930475],\n",
       "  [-100.0, 100.0],\n",
       "  [-254.059117318, 249.404925868],\n",
       "  [-273.423118979, 278.4509283595]],\n",
       " 'inp_names': ['x1', 'x2', 'x3', 'x4'],\n",
       " 'out_names': ['y1', 'y2', 'y3', 'y4']}"
      ]
     },
     "execution_count": 8,
     "metadata": {},
     "output_type": "execute_result"
    }
   ],
   "source": [
    "parser.neurodata"
   ]
  },
  {
   "cell_type": "code",
   "execution_count": null,
   "metadata": {},
   "outputs": [],
   "source": []
  },
  {
   "cell_type": "code",
   "execution_count": null,
   "metadata": {},
   "outputs": [],
   "source": []
  },
  {
   "cell_type": "code",
   "execution_count": null,
   "metadata": {},
   "outputs": [],
   "source": []
  },
  {
   "cell_type": "code",
   "execution_count": null,
   "metadata": {},
   "outputs": [],
   "source": []
  },
  {
   "cell_type": "code",
   "execution_count": null,
   "metadata": {},
   "outputs": [],
   "source": []
  },
  {
   "cell_type": "code",
   "execution_count": null,
   "metadata": {},
   "outputs": [],
   "source": []
  },
  {
   "cell_type": "code",
   "execution_count": null,
   "metadata": {},
   "outputs": [],
   "source": []
  }
 ],
 "metadata": {
  "kernelspec": {
   "display_name": "Python 3",
   "language": "python",
   "name": "python3"
  },
  "language_info": {
   "codemirror_mode": {
    "name": "ipython",
    "version": 3
   },
   "file_extension": ".py",
   "mimetype": "text/x-python",
   "name": "python",
   "nbconvert_exporter": "python",
   "pygments_lexer": "ipython3",
   "version": "3.7.3"
  }
 },
 "nbformat": 4,
 "nbformat_minor": 2
}
