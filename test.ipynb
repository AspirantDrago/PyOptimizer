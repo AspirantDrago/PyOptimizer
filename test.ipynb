{
 "cells": [
  {
   "cell_type": "code",
   "execution_count": 8,
   "metadata": {},
   "outputs": [],
   "source": [
    "from neuronet import ActivePerceptron, Perceptron, PseudoRandomNeuroNet\n",
    "from deductor_parser import DeductorParser\n",
    "\n",
    "# from PRNN import NeuroNet\n",
    "from random import random"
   ]
  },
  {
   "cell_type": "code",
   "execution_count": 10,
   "metadata": {},
   "outputs": [],
   "source": [
    "parser = DeductorParser('test.ded')"
   ]
  },
  {
   "cell_type": "code",
   "execution_count": 3,
   "metadata": {},
   "outputs": [],
   "source": [
    "# parser.getdocumentsxml().keys()"
   ]
  },
  {
   "cell_type": "code",
   "execution_count": 4,
   "metadata": {},
   "outputs": [],
   "source": [
    "parser.setdocument('Текстовый файл (C:\\\\Users\\\\Aleksandr\\\\Desktop\\\\PyOptimizer\\\\test.csv)')"
   ]
  },
  {
   "cell_type": "code",
   "execution_count": 5,
   "metadata": {},
   "outputs": [],
   "source": [
    "# parser.getneuronetsxml().keys()"
   ]
  },
  {
   "cell_type": "code",
   "execution_count": 6,
   "metadata": {},
   "outputs": [],
   "source": [
    "parser.setneuronet('Нейросеть [2 x 10 x 10 x 1]', parse=True)\n",
    "\n",
    "nw_active = ActivePerceptron()\n",
    "nw_active.loader(parser.neurodata)"
   ]
  },
  {
   "cell_type": "code",
   "execution_count": 7,
   "metadata": {},
   "outputs": [],
   "source": [
    "nw = Perceptron()\n",
    "nw.loader(parser.neurodata)"
   ]
  },
  {
   "cell_type": "code",
   "execution_count": 8,
   "metadata": {},
   "outputs": [
    {
     "data": {
      "text/plain": [
       "[111.80630706931208]"
      ]
     },
     "execution_count": 8,
     "metadata": {},
     "output_type": "execute_result"
    }
   ],
   "source": [
    "nw_active(10, 10)"
   ]
  },
  {
   "cell_type": "code",
   "execution_count": 9,
   "metadata": {},
   "outputs": [
    {
     "data": {
      "text/plain": [
       "[111.80630706931208]"
      ]
     },
     "execution_count": 9,
     "metadata": {},
     "output_type": "execute_result"
    }
   ],
   "source": [
    "nw(10, 10)"
   ]
  },
  {
   "cell_type": "code",
   "execution_count": 25,
   "metadata": {},
   "outputs": [
    {
     "name": "stdout",
     "output_type": "stream",
     "text": [
      "53.2 µs ± 1.82 µs per loop (mean ± std. dev. of 7 runs, 10000 loops each)\n"
     ]
    }
   ],
   "source": [
    "%timeit nw_active(random() * 20 - 10, random() * 20 - 10)"
   ]
  },
  {
   "cell_type": "code",
   "execution_count": 28,
   "metadata": {},
   "outputs": [
    {
     "name": "stdout",
     "output_type": "stream",
     "text": [
      "105 µs ± 3.34 µs per loop (mean ± std. dev. of 7 runs, 10000 loops each)\n"
     ]
    }
   ],
   "source": [
    "%timeit nw(random() * 20 - 10, random() * 20 - 10)"
   ]
  },
  {
   "cell_type": "code",
   "execution_count": 12,
   "metadata": {},
   "outputs": [],
   "source": [
    "nrs = NeuroNet(2, 1, 20, 10)\n",
    "nrs.setinnormal([(-10, 10, -1, 1), (-10, 10, -1, 1)])\n",
    "nrs.setdiscretout([False] * 1)\n",
    "nrs.setoutnormal([(-20, 120, 0, 1)] * 1)\n",
    "nrs.setdelta(0.01)\n",
    "nrs.setcountlearn(10)\n",
    "nrs.is_stabilization = False\n",
    "nrs.reinit()\n",
    "nrs.setspeed(0.5)"
   ]
  },
  {
   "cell_type": "code",
   "execution_count": 13,
   "metadata": {},
   "outputs": [
    {
     "data": {
      "text/plain": [
       "[24.916471665092573]"
      ]
     },
     "execution_count": 13,
     "metadata": {},
     "output_type": "execute_result"
    }
   ],
   "source": [
    "nrs.gety([random() * 20 - 10, random() * 20 - 10])"
   ]
  },
  {
   "cell_type": "code",
   "execution_count": 14,
   "metadata": {},
   "outputs": [
    {
     "name": "stdout",
     "output_type": "stream",
     "text": [
      "229 µs ± 11.1 µs per loop (mean ± std. dev. of 7 runs, 1000 loops each)\n"
     ]
    }
   ],
   "source": [
    "%timeit nrs.gety([random() * 20 - 10, random() * 20 - 10])"
   ]
  },
  {
   "cell_type": "code",
   "execution_count": 15,
   "metadata": {},
   "outputs": [],
   "source": [
    "nrs_stab = NeuroNet(2, 1, 20, 10)\n",
    "nrs_stab.setinnormal([(-10, 10, -1, 1), (-10, 10, -1, 1)])\n",
    "nrs_stab.setdiscretout([False] * 1)\n",
    "nrs_stab.setoutnormal([(-20, 120, 0, 1)] * 1)\n",
    "nrs_stab.setdelta(0.01)\n",
    "nrs.setcountlearn(10)\n",
    "nrs_stab.is_stabilization = True\n",
    "nrs_stab.reinit()\n",
    "nrs_stab.setspeed(0.5)"
   ]
  },
  {
   "cell_type": "code",
   "execution_count": 16,
   "metadata": {},
   "outputs": [
    {
     "data": {
      "text/plain": [
       "[44.37146696862236]"
      ]
     },
     "execution_count": 16,
     "metadata": {},
     "output_type": "execute_result"
    }
   ],
   "source": [
    "nrs_stab.gety([random() * 20 - 10, random() * 20 - 10])"
   ]
  },
  {
   "cell_type": "code",
   "execution_count": 17,
   "metadata": {},
   "outputs": [
    {
     "name": "stdout",
     "output_type": "stream",
     "text": [
      "433 µs ± 12 µs per loop (mean ± std. dev. of 7 runs, 1000 loops each)\n"
     ]
    }
   ],
   "source": [
    "%timeit nrs_stab.gety([random() * 20 - 10, random() * 20 - 10])"
   ]
  },
  {
   "cell_type": "code",
   "execution_count": 18,
   "metadata": {},
   "outputs": [
    {
     "name": "stdout",
     "output_type": "stream",
     "text": [
      "2.36 ms ± 178 µs per loop (mean ± std. dev. of 7 runs, 100 loops each)\n"
     ]
    }
   ],
   "source": [
    "%timeit x = random() * 20 - 10; y = random() * 20 - 10; z = x ** 2 + y ** 2 + x + y; nrs_stab.learn([x, y, z])"
   ]
  },
  {
   "cell_type": "code",
   "execution_count": 33,
   "metadata": {},
   "outputs": [
    {
     "name": "stdout",
     "output_type": "stream",
     "text": [
      "447 µs ± 15.3 µs per loop (mean ± std. dev. of 7 runs, 1000 loops each)\n"
     ]
    }
   ],
   "source": [
    "%timeit x = random() * 20 - 10; y = random() * 20 - 10; z = x ** 2 + y ** 2 + x + y; nw.learn_bprop([[[x, y], [z]]])"
   ]
  },
  {
   "cell_type": "code",
   "execution_count": null,
   "metadata": {},
   "outputs": [],
   "source": []
  },
  {
   "cell_type": "code",
   "execution_count": 20,
   "metadata": {},
   "outputs": [],
   "source": [
    "import hashlib"
   ]
  },
  {
   "cell_type": "code",
   "execution_count": 21,
   "metadata": {},
   "outputs": [],
   "source": [
    "x = '15'"
   ]
  },
  {
   "cell_type": "code",
   "execution_count": 22,
   "metadata": {},
   "outputs": [
    {
     "data": {
      "text/plain": [
       "'9dd4e461268c8034f5c8564e155c67a6'"
      ]
     },
     "execution_count": 22,
     "metadata": {},
     "output_type": "execute_result"
    }
   ],
   "source": [
    "hashlib.md5(b'x').hexdigest()"
   ]
  },
  {
   "cell_type": "code",
   "execution_count": null,
   "metadata": {},
   "outputs": [],
   "source": []
  },
  {
   "cell_type": "code",
   "execution_count": 36,
   "metadata": {},
   "outputs": [
    {
     "name": "stdout",
     "output_type": "stream",
     "text": [
      "157 µs ± 5.48 µs per loop (mean ± std. dev. of 7 runs, 10000 loops each)\n"
     ]
    }
   ],
   "source": [
    "%timeit nw_new.gety([random() * 20 - 10, random() * 20 - 10])"
   ]
  },
  {
   "cell_type": "code",
   "execution_count": 39,
   "metadata": {},
   "outputs": [
    {
     "name": "stdout",
     "output_type": "stream",
     "text": [
      "633 µs ± 26.8 µs per loop (mean ± std. dev. of 7 runs, 1000 loops each)\n"
     ]
    }
   ],
   "source": [
    "%timeit x = random() * 20 - 10; y = random() * 20 - 10; z = x ** 2 + y ** 2 + x + y; nw_new.learn_bprop([[[x, y], [z]]])"
   ]
  },
  {
   "cell_type": "code",
   "execution_count": null,
   "metadata": {},
   "outputs": [],
   "source": []
  },
  {
   "cell_type": "code",
   "execution_count": null,
   "metadata": {},
   "outputs": [],
   "source": []
  },
  {
   "cell_type": "code",
   "execution_count": null,
   "metadata": {},
   "outputs": [],
   "source": []
  },
  {
   "cell_type": "code",
   "execution_count": null,
   "metadata": {},
   "outputs": [],
   "source": []
  },
  {
   "cell_type": "code",
   "execution_count": null,
   "metadata": {},
   "outputs": [],
   "source": []
  },
  {
   "cell_type": "code",
   "execution_count": 1,
   "metadata": {},
   "outputs": [],
   "source": [
    "from neuronet import ActivePerceptron, Perceptron, PseudoRandomNeuroNet\n",
    "from deductor_parser import DeductorParser\n",
    "\n",
    "# from PRNN import NeuroNet\n",
    "from random import random"
   ]
  },
  {
   "cell_type": "code",
   "execution_count": 2,
   "metadata": {},
   "outputs": [],
   "source": [
    "parser = DeductorParser('Тест.ded')"
   ]
  },
  {
   "cell_type": "code",
   "execution_count": 3,
   "metadata": {},
   "outputs": [
    {
     "data": {
      "text/plain": [
       "['Текстовый файл (C:\\\\Users\\\\Aleksandr\\\\Desktop\\\\PyOptimizer\\\\test.csv)']"
      ]
     },
     "execution_count": 3,
     "metadata": {},
     "output_type": "execute_result"
    }
   ],
   "source": [
    "parser.documents"
   ]
  },
  {
   "cell_type": "code",
   "execution_count": 4,
   "metadata": {},
   "outputs": [],
   "source": [
    "parser.setdocument('Текстовый файл (C:\\\\Users\\\\Aleksandr\\\\Desktop\\\\PyOptimizer\\\\test.csv)')"
   ]
  },
  {
   "cell_type": "code",
   "execution_count": 5,
   "metadata": {},
   "outputs": [
    {
     "data": {
      "text/plain": [
       "['Нейросеть [4 x 10 x 4]', 'Нейросеть [4 x 10 x 4] Копия']"
      ]
     },
     "execution_count": 5,
     "metadata": {},
     "output_type": "execute_result"
    }
   ],
   "source": [
    "parser.neuronets"
   ]
  },
  {
   "cell_type": "code",
   "execution_count": 6,
   "metadata": {},
   "outputs": [],
   "source": [
    "parser.setneuronet('Нейросеть [4 x 10 x 4]', parse=True)"
   ]
  },
  {
   "cell_type": "code",
   "execution_count": 7,
   "metadata": {},
   "outputs": [
    {
     "data": {
      "text/plain": [
       "{'layers': [[[11.2458383073722,\n",
       "    8.3545800127775,\n",
       "    -4.5864305946383,\n",
       "    57.7101507911854,\n",
       "    1.36754899440087],\n",
       "   [-9.0656868032685,\n",
       "    -5.39620502040116,\n",
       "    3.78159404848504,\n",
       "    -49.7964288236182,\n",
       "    -0.999125071956601],\n",
       "   [-2.328094681913,\n",
       "    -5.87316328991387,\n",
       "    1.73377283257219,\n",
       "    1.56703942548597,\n",
       "    -0.102091237925893],\n",
       "   [4.52446856018164,\n",
       "    -5.06265484405166,\n",
       "    -0.177967961789719,\n",
       "    0.509894619938249,\n",
       "    -0.754782687770844],\n",
       "   [3.72703489054604,\n",
       "    0.341300136141944,\n",
       "    -8.35029865835551,\n",
       "    0.644419020412986,\n",
       "    -0.148584668921451],\n",
       "   [2.20645496356754,\n",
       "    0.596383579604055,\n",
       "    2.90934668284053,\n",
       "    -1.51971279732569,\n",
       "    0.104847797367567],\n",
       "   [-1.81229334995118,\n",
       "    4.30243792403879,\n",
       "    -0.039409535099577,\n",
       "    -0.788911634131614,\n",
       "    0.0930807842439046],\n",
       "   [2.92830365926021,\n",
       "    -6.92504479907925,\n",
       "    0.990179752688893,\n",
       "    -1.20983146293291,\n",
       "    0.200660381048935],\n",
       "   [3.84394904540129,\n",
       "    -0.0608173790821069,\n",
       "    -14.6360312612768,\n",
       "    0.519661978025816,\n",
       "    0.263219855316558],\n",
       "   [7.01388205466791,\n",
       "    -2.07687164450217,\n",
       "    0.147743256702315,\n",
       "    0.0160933141186877,\n",
       "    -0.990876899524746]],\n",
       "  [[0.858248643240615,\n",
       "    0.272882803975455,\n",
       "    0.415806466755968,\n",
       "    2.23920520081769,\n",
       "    0.162401919775142,\n",
       "    -1.76611735581007,\n",
       "    -4.04069415675311,\n",
       "    4.26652160175945,\n",
       "    0.282621224232336,\n",
       "    -0.609183860872051,\n",
       "    0.148953710253921],\n",
       "   [0.564712511509163,\n",
       "    -0.100403839564002,\n",
       "    0.0851331410281534,\n",
       "    0.17283824747344,\n",
       "    0.985575071206495,\n",
       "    0.0511256145639532,\n",
       "    -0.0220362584903936,\n",
       "    1.4447547880282,\n",
       "    0.831581101860048,\n",
       "    -0.0103236471362392,\n",
       "    -2.5023775640559],\n",
       "   [1.20512215705114,\n",
       "    -0.840824765734297,\n",
       "    -0.853933451781683,\n",
       "    -0.0442817696089463,\n",
       "    0.123432989970076,\n",
       "    -0.0374348269531034,\n",
       "    -0.0462064328706625,\n",
       "    0.0383564247707193,\n",
       "    0.0263721484019287,\n",
       "    0.0241999644198961,\n",
       "    -0.430126163701257],\n",
       "   [-0.0501505028499898,\n",
       "    8.92476061791403,\n",
       "    -269450.999288011,\n",
       "    -10909.8014584719,\n",
       "    -199.306497993796,\n",
       "    -60.6300101449239,\n",
       "    -0.637276468183129,\n",
       "    282.890912654882,\n",
       "    -184.613951408345,\n",
       "    -283.080326160696,\n",
       "    13.3512753751224]]],\n",
       " 'layers_count': 2,\n",
       " 'count_x': 4,\n",
       " 'count_y': 4,\n",
       " 'krutizna': 1.0,\n",
       " 'activate': 'afnSigmoid',\n",
       " 'inp_norm_from': [[-9.975258975, 9.961723322],\n",
       "  [-10.0, 10.0],\n",
       "  [-1.9981791995, 1.9991795745],\n",
       "  [-2.1980471382, 2.3989154519]],\n",
       " 'inp_norm_to': [[-1.0, 1.0], [-1.0, 1.0], [-1.0, 1.0], [-15.0, 15.0]],\n",
       " 'out_norm_from': [[0, 1.0], [0, 1.0], [0, 1.0], [-20.0, 20.0]],\n",
       " 'out_norm_to': [[-8.766684412, 118.9930475],\n",
       "  [-100.0, 100.0],\n",
       "  [-254.059117318, 249.404925868],\n",
       "  [-273.423118979, 278.4509283595]],\n",
       " 'inp_names': ['x1', 'x2', 'x3', 'x4'],\n",
       " 'out_names': ['y1', 'y2', 'y3', 'y4'],\n",
       " 'file': 'Тест.ded',\n",
       " 'document': 'Текстовый файл (C:\\\\Users\\\\Aleksandr\\\\Desktop\\\\PyOptimizer\\\\test.csv)',\n",
       " 'neuronet_name': 'NeuralNetTeachEngineTest',\n",
       " 'neuronet_description': 'Новое описание',\n",
       " 'neuronet_title': 'Нейросеть [4 x 10 x 4]'}"
      ]
     },
     "execution_count": 7,
     "metadata": {},
     "output_type": "execute_result"
    }
   ],
   "source": [
    "parser.neurodata"
   ]
  },
  {
   "cell_type": "code",
   "execution_count": 8,
   "metadata": {},
   "outputs": [],
   "source": [
    "nw_active = ActivePerceptron()"
   ]
  },
  {
   "cell_type": "code",
   "execution_count": 9,
   "metadata": {},
   "outputs": [],
   "source": [
    "nw = Perceptron()\n",
    "nw.loader(parser.neurodata)"
   ]
  },
  {
   "cell_type": "code",
   "execution_count": 10,
   "metadata": {},
   "outputs": [
    {
     "data": {
      "text/plain": [
       "[-4.832999050491617, -2.2403900899080895, 1.2302473834973, 2.5139046902500013]"
      ]
     },
     "execution_count": 10,
     "metadata": {},
     "output_type": "execute_result"
    }
   ],
   "source": [
    "nw([0] * 4)"
   ]
  },
  {
   "cell_type": "code",
   "execution_count": 11,
   "metadata": {},
   "outputs": [
    {
     "name": "stdout",
     "output_type": "stream",
     "text": [
      "83.9 µs ± 3.45 µs per loop (mean ± std. dev. of 7 runs, 10000 loops each)\n"
     ]
    }
   ],
   "source": [
    "%timeit nw([0] * 4)"
   ]
  },
  {
   "cell_type": "code",
   "execution_count": null,
   "metadata": {},
   "outputs": [],
   "source": []
  },
  {
   "cell_type": "code",
   "execution_count": 12,
   "metadata": {},
   "outputs": [],
   "source": [
    "nw_active.loader(nw.neurodata)"
   ]
  },
  {
   "cell_type": "code",
   "execution_count": 13,
   "metadata": {},
   "outputs": [
    {
     "data": {
      "text/plain": [
       "[-4.832999050491617, -2.2403900899080895, 1.2302473834973, 2.5139046902500013]"
      ]
     },
     "execution_count": 13,
     "metadata": {},
     "output_type": "execute_result"
    }
   ],
   "source": [
    "nw_active([0] * 4)"
   ]
  },
  {
   "cell_type": "code",
   "execution_count": 16,
   "metadata": {},
   "outputs": [
    {
     "name": "stdout",
     "output_type": "stream",
     "text": [
      "43 µs ± 1.93 µs per loop (mean ± std. dev. of 7 runs, 10000 loops each)\n"
     ]
    }
   ],
   "source": [
    "%timeit nw_active([0] * 4)"
   ]
  },
  {
   "cell_type": "code",
   "execution_count": null,
   "metadata": {},
   "outputs": [],
   "source": []
  },
  {
   "cell_type": "code",
   "execution_count": null,
   "metadata": {},
   "outputs": [],
   "source": []
  },
  {
   "cell_type": "code",
   "execution_count": null,
   "metadata": {},
   "outputs": [],
   "source": []
  },
  {
   "cell_type": "code",
   "execution_count": null,
   "metadata": {},
   "outputs": [],
   "source": []
  },
  {
   "cell_type": "code",
   "execution_count": null,
   "metadata": {},
   "outputs": [],
   "source": []
  },
  {
   "cell_type": "code",
   "execution_count": null,
   "metadata": {},
   "outputs": [],
   "source": []
  },
  {
   "cell_type": "code",
   "execution_count": null,
   "metadata": {},
   "outputs": [],
   "source": []
  },
  {
   "cell_type": "code",
   "execution_count": null,
   "metadata": {},
   "outputs": [],
   "source": []
  },
  {
   "cell_type": "code",
   "execution_count": null,
   "metadata": {},
   "outputs": [],
   "source": []
  },
  {
   "cell_type": "code",
   "execution_count": null,
   "metadata": {},
   "outputs": [],
   "source": []
  },
  {
   "cell_type": "code",
   "execution_count": null,
   "metadata": {},
   "outputs": [],
   "source": []
  },
  {
   "cell_type": "code",
   "execution_count": null,
   "metadata": {},
   "outputs": [],
   "source": []
  },
  {
   "cell_type": "code",
   "execution_count": null,
   "metadata": {},
   "outputs": [],
   "source": []
  },
  {
   "cell_type": "code",
   "execution_count": null,
   "metadata": {},
   "outputs": [],
   "source": []
  }
 ],
 "metadata": {
  "kernelspec": {
   "display_name": "Python 3",
   "language": "python",
   "name": "python3"
  },
  "language_info": {
   "codemirror_mode": {
    "name": "ipython",
    "version": 3
   },
   "file_extension": ".py",
   "mimetype": "text/x-python",
   "name": "python",
   "nbconvert_exporter": "python",
   "pygments_lexer": "ipython3",
   "version": "3.7.3"
  }
 },
 "nbformat": 4,
 "nbformat_minor": 2
}
